{
  "cells": [
    {
      "cell_type": "markdown",
      "metadata": {
        "id": "view-in-github",
        "colab_type": "text"
      },
      "source": [
        "<a href=\"https://colab.research.google.com/github/mercadoerik1031/AudioAnalyzer/blob/main/snn_sound_localization.ipynb\" target=\"_parent\"><img src=\"https://colab.research.google.com/assets/colab-badge.svg\" alt=\"Open In Colab\"/></a>"
      ]
    },
    {
      "cell_type": "code",
      "source": [
        "! pip install snntorch --quiet"
      ],
      "metadata": {
        "id": "vmiMyIQVT8gh"
      },
      "execution_count": null,
      "outputs": []
    },
    {
      "cell_type": "code",
      "execution_count": null,
      "metadata": {
        "id": "FkLpfcRNSoFm"
      },
      "outputs": [],
      "source": [
        "import pandas as pd\n",
        "import os\n",
        "import librosa\n",
        "import torch\n",
        "from snntorch import spikegen"
      ]
    },
    {
      "cell_type": "code",
      "source": [
        "from google.colab import drive\n",
        "drive.mount(\"/content/drive\")"
      ],
      "metadata": {
        "colab": {
          "base_uri": "https://localhost:8080/"
        },
        "id": "K6vcXjzWStl0",
        "outputId": "af668b6a-5f54-4ee9-8f03-7fecfb2ba13c"
      },
      "execution_count": null,
      "outputs": [
        {
          "output_type": "stream",
          "name": "stdout",
          "text": [
            "Drive already mounted at /content/drive; to attempt to forcibly remount, call drive.mount(\"/content/drive\", force_remount=True).\n"
          ]
        }
      ]
    },
    {
      "cell_type": "code",
      "source": [
        "!ls \"/content/drive/My Drive/Colab Notebooks/Masters Project/spatial_librispeech_sample\"\n"
      ],
      "metadata": {
        "colab": {
          "base_uri": "https://localhost:8080/"
        },
        "id": "ePohXdxOTDqM",
        "outputId": "99bda503-247a-4fbf-9b1d-beeb895e4072"
      },
      "execution_count": null,
      "outputs": [
        {
          "output_type": "stream",
          "name": "stdout",
          "text": [
            "ambisonics_sample  noise_ambisonics_sample\n"
          ]
        }
      ]
    },
    {
      "cell_type": "markdown",
      "metadata": {
        "id": "2qXpXNVaSoFq"
      },
      "source": [
        "# Config"
      ]
    },
    {
      "cell_type": "code",
      "execution_count": null,
      "metadata": {
        "id": "OsF-UzANSoFr"
      },
      "outputs": [],
      "source": [
        "config = {\n",
        "    # Google Colab\n",
        "    \"metadata_path\": \"/content/drive/My Drive/Colab Notebooks/Masters Project/metadata.parquet\",\n",
        "    \"ambisonics_path\": \"/content/drive/My Drive/Colab Notebooks/Masters Project/spatial_librispeech_sample/ambisonics_sample\",\n",
        "    # \"metadata_path\": \"spatial_librispeech_sample/metadata.parquet\",\n",
        "    # \"ambisonics_path\": \"c:\\\\Users\\\\merca\\\\OneDrive\\\\Documents\\\\MyFiles\\\\Code\\\\masters_project\\\\spatial_librispeech_sample\\\\ambisonics_sample\",\n",
        "\n",
        "    \"time_based_encoding\": True,\n",
        "    \"num_steps\": 100,\n",
        "    \"max_rate\": 100\n",
        "}"
      ]
    },
    {
      "cell_type": "markdown",
      "metadata": {
        "id": "YOLJC3qwSoFs"
      },
      "source": [
        "# Filter Data"
      ]
    },
    {
      "cell_type": "code",
      "execution_count": null,
      "metadata": {
        "id": "7Em4cDWeSoFt"
      },
      "outputs": [],
      "source": [
        "# Path to the metadata file\n",
        "metadata_path = config[\"metadata_path\"]\n",
        "\n",
        "# Load the metadata file\n",
        "metadata = pd.read_parquet(metadata_path, engine=\"pyarrow\")\n",
        "\n",
        "# Path to the ambisonics folder\n",
        "ambisonics_path = config[\"ambisonics_path\"]\n",
        "\n",
        "# List all files in the ambisonics folder\n",
        "ambisonics_files = [f for f in os.listdir(ambisonics_path) if os.path.isfile(os.path.join(ambisonics_path, f))]\n"
      ]
    },
    {
      "cell_type": "markdown",
      "metadata": {
        "id": "E2DrkgJnSoFt"
      },
      "source": [
        "## Strip 0s from filenames"
      ]
    },
    {
      "cell_type": "code",
      "execution_count": null,
      "metadata": {
        "colab": {
          "base_uri": "https://localhost:8080/"
        },
        "id": "nxBcLbliSoFu",
        "outputId": "62ecf2ee-76cb-4a68-e533-e6740fe29565"
      },
      "outputs": [
        {
          "output_type": "execute_result",
          "data": {
            "text/plain": [
              "(735, 47)"
            ]
          },
          "metadata": {},
          "execution_count": 58
        }
      ],
      "source": [
        "sample_ids = []\n",
        "\n",
        "for file_name in ambisonics_files:\n",
        "    number, _ = file_name.split(\".\")\n",
        "    number.lstrip(\"0\")\n",
        "\n",
        "    if not number:\n",
        "        number = 0\n",
        "\n",
        "    sample_ids.append(int(number))\n",
        "\n",
        "filtered_metadata = metadata[metadata[\"sample_id\"].isin(sample_ids)]\n",
        "filtered_metadata.shape"
      ]
    },
    {
      "cell_type": "markdown",
      "metadata": {
        "id": "toiYb9hzSoFv"
      },
      "source": [
        "# Preprocess Audio"
      ]
    },
    {
      "cell_type": "markdown",
      "metadata": {
        "id": "E77Ry0ydSoFw"
      },
      "source": [
        "## Cochlear Filer"
      ]
    },
    {
      "cell_type": "code",
      "execution_count": null,
      "metadata": {
        "id": "_K8G-G0FSoFw"
      },
      "outputs": [],
      "source": [
        "def cochlear_filter(channel_data, sr):\n",
        "    # pass\n",
        "    return channel_data"
      ]
    },
    {
      "cell_type": "markdown",
      "metadata": {
        "id": "87GaxiccSoFw"
      },
      "source": [
        "## Normalize"
      ]
    },
    {
      "cell_type": "code",
      "execution_count": null,
      "metadata": {
        "id": "Q8UrCaE0SoFx"
      },
      "outputs": [],
      "source": [
        "def normalize(data):\n",
        "    return (data - data.min()) / (data.max() - data.min())"
      ]
    },
    {
      "cell_type": "markdown",
      "metadata": {
        "id": "BASBLdCnSoFx"
      },
      "source": [
        "## Rate Based Encoding"
      ]
    },
    {
      "cell_type": "code",
      "execution_count": null,
      "metadata": {
        "id": "2a5MyuVpSoFx"
      },
      "outputs": [],
      "source": [
        "def rate_based_encoding(data, max_rate=100, num_steps=100):\n",
        "    if data is None:\n",
        "      raise ValueError(\"Input data is None.\")\n",
        "\n",
        "    data_tensor = torch.from_numpy(data).float()\n",
        "\n",
        "    normalized_data = normalize(data_tensor)\n",
        "\n",
        "    spike_rates = normalized_data * max_rate\n",
        "\n",
        "    spike_train = spikegen.rate(spike_rates, num_steps= num_steps)\n",
        "\n",
        "    return spike_train"
      ]
    },
    {
      "cell_type": "markdown",
      "metadata": {
        "id": "LPJSC6NOSoFy"
      },
      "source": [
        "## Time Based Encoding"
      ]
    },
    {
      "cell_type": "code",
      "execution_count": null,
      "metadata": {
        "id": "qM_N4WhySoFy"
      },
      "outputs": [],
      "source": [
        "def time_based_encoding(data, num_steps=100):\n",
        "    if data is None:\n",
        "      raise ValueError(\"Input data is None.\")\n",
        "\n",
        "    data_tensor = torch.from_numpy(data).float()\n",
        "\n",
        "    normalized_data = normalize(data_tensor)\n",
        "\n",
        "    spike_times = torch.where(normalized_data > 0.5, 1, 0)\n",
        "\n",
        "    spike_trains = spikegen.latency(spike_times, num_steps=num_steps)\n",
        "\n",
        "    return spike_trains\n",
        "\n"
      ]
    },
    {
      "cell_type": "code",
      "execution_count": null,
      "metadata": {
        "id": "PIk6i3YASoFy"
      },
      "outputs": [],
      "source": [
        "def preprocess_audio(filepath, max_duration):\n",
        "    \"\"\"\n",
        "    W: Omnidirectional\n",
        "    X: Front - Back\n",
        "    Y: Left - Right\n",
        "    Z: Top - Bottom\n",
        "    \"\"\"\n",
        "    audio, sr = librosa.load(filepath, sr=None, mono=False)\n",
        "    # print(f\"Original shape: {audio.shape}, Sampling rate: {sr}\")\n",
        "\n",
        "    max_length = int(max_duration * sr)\n",
        "    # print(f\"Max length in samples: {max_length}\")\n",
        "\n",
        "    padded_audio = librosa.util.fix_length(data=audio, size=max_length)\n",
        "    # print(f\"Padded shape: {padded_audio.shape}\")\n",
        "\n",
        "    W, X, Y, Z = padded_audio[0], padded_audio[1], padded_audio[2], padded_audio[3]\n",
        "\n",
        "    processed_W = cochlear_filter(W, sr)\n",
        "    processed_X = cochlear_filter(X, sr)\n",
        "    processed_Y = cochlear_filter(Y, sr)\n",
        "    processed_Z = cochlear_filter(Z, sr)\n",
        "\n",
        "    if config[\"time_based_encoding\"]:\n",
        "        spike_trains_W = time_based_encoding(processed_W, config[\"num_steps\"])\n",
        "        spike_trains_X = time_based_encoding(processed_X, config[\"num_steps\"])\n",
        "        spike_trains_Y = time_based_encoding(processed_Y, config[\"num_steps\"])\n",
        "        spike_trains_Z = time_based_encoding(processed_Z, config[\"num_steps\"])\n",
        "    else:\n",
        "        spike_trains_W = rate_based_encoding(processed_W, config['max_rate'], config['num_steps'])\n",
        "        spike_trains_X = rate_based_encoding(processed_X, config['max_rate'], config['num_steps'])\n",
        "        spike_trains_Y = rate_based_encoding(processed_Y, config['max_rate'], config['num_steps'])\n",
        "        spike_trains_Z = rate_based_encoding(processed_Z, config['max_rate'], config['num_steps'])\n",
        "\n",
        "    return spike_trains_W, spike_trains_X, spike_trains_Y, spike_trains_Z\n",
        "\n",
        "\n",
        "\n"
      ]
    },
    {
      "cell_type": "code",
      "execution_count": null,
      "metadata": {
        "id": "ukNCy1T_SoFy"
      },
      "outputs": [],
      "source": [
        "processed_data = preprocess_audio(os.path.join(ambisonics_path, ambisonics_files[0]), filtered_metadata[\"audio_info/duration\"].max())\n",
        "if processed_data is None:\n",
        "    raise ValueError(\"Data is None. Check preprocess_audio function.\")\n",
        "spikes_W, spikes_X, spikes_Y, spikes_Z = processed_data\n"
      ]
    },
    {
      "cell_type": "code",
      "source": [
        "print(f\"spikes_W: {spikes_W.shape}\")\n",
        "print(f\"spikes_X: {spikes_X.shape}\")\n",
        "print(f\"spikes_Y: {spikes_Y.shape}\")\n",
        "print(f\"spikes_Z: {spikes_Z.shape}\")"
      ],
      "metadata": {
        "colab": {
          "base_uri": "https://localhost:8080/"
        },
        "id": "GJ1uqDJ0WuFR",
        "outputId": "f836e1d7-de44-4b58-f724-d6cd29cca896"
      },
      "execution_count": null,
      "outputs": [
        {
          "output_type": "stream",
          "name": "stdout",
          "text": [
            "spikes_W: torch.Size([100, 524310])\n",
            "spikes_X: torch.Size([100, 524310])\n",
            "spikes_Y: torch.Size([100, 524310])\n",
            "spikes_Z: torch.Size([100, 524310])\n"
          ]
        }
      ]
    },
    {
      "cell_type": "code",
      "source": [],
      "metadata": {
        "colab": {
          "base_uri": "https://localhost:8080/"
        },
        "id": "nCtPex-BW77E",
        "outputId": "bb88d131-1f66-4fc2-e670-f0bd978f2ad2"
      },
      "execution_count": null,
      "outputs": [
        {
          "output_type": "execute_result",
          "data": {
            "text/plain": [
              "tensor([[0., 0., 0.,  ..., 0., 0., 0.],\n",
              "        [0., 0., 0.,  ..., 0., 0., 0.],\n",
              "        [0., 0., 0.,  ..., 0., 0., 0.],\n",
              "        ...,\n",
              "        [0., 0., 0.,  ..., 0., 0., 0.],\n",
              "        [0., 0., 0.,  ..., 0., 0., 0.],\n",
              "        [0., 0., 0.,  ..., 0., 0., 0.]])"
            ]
          },
          "metadata": {},
          "execution_count": 69
        }
      ]
    },
    {
      "cell_type": "code",
      "source": [
        "!git config --global user.name \"mercadoerik1031\"\n",
        "!git config --global user.email \"mercadoerik1031@gmail.com\"\n"
      ],
      "metadata": {
        "id": "JudgAzeOYckC"
      },
      "execution_count": null,
      "outputs": []
    },
    {
      "cell_type": "code",
      "source": [
        "!git add .\n",
        "!git commit -m \"third commit\"\n",
        "!git push"
      ],
      "metadata": {
        "colab": {
          "base_uri": "https://localhost:8080/"
        },
        "id": "oM7C-n_rZCmg",
        "outputId": "30cb24db-5602-4c60-af16-d2918d5bb9e8"
      },
      "execution_count": null,
      "outputs": [
        {
          "output_type": "stream",
          "name": "stdout",
          "text": [
            "fatal: not a git repository (or any of the parent directories): .git\n",
            "fatal: not a git repository (or any of the parent directories): .git\n",
            "fatal: not a git repository (or any of the parent directories): .git\n"
          ]
        }
      ]
    }
  ],
  "metadata": {
    "kernelspec": {
      "display_name": "Python 3",
      "language": "python",
      "name": "python3"
    },
    "language_info": {
      "codemirror_mode": {
        "name": "ipython",
        "version": 3
      },
      "file_extension": ".py",
      "mimetype": "text/x-python",
      "name": "python",
      "nbconvert_exporter": "python",
      "pygments_lexer": "ipython3",
      "version": "3.11.3"
    },
    "colab": {
      "provenance": [],
      "include_colab_link": true
    }
  },
  "nbformat": 4,
  "nbformat_minor": 0
}